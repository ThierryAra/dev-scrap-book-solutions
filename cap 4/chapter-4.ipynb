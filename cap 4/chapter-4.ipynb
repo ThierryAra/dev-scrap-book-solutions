{
 "cells": [
  {
   "cell_type": "markdown",
   "metadata": {},
   "source": [
    "# Chapter 4"
   ]
  },
  {
   "cell_type": "markdown",
   "metadata": {},
   "source": [
    "In the chapter 4 of \"Web Scraping with Python\" you were able to learn more about the following subjects:\n",
    "* Planning and Defining Objects\n",
    "* Handling with different layouts\n",
    "* Tracking through search\n",
    "* Tracking through links\n",
    "* Defining site through different mechanisms\n",
    "\n",
    "The following cells aim to practice the contents listed above. For any sugestions, contact *gabriel.vasconcelos@usp.br*\n",
    "\n",
    "Use the website https://scraping-cap4.herokuapp.com/ and other sites requested to answer this notebook."
   ]
  },
  {
   "cell_type": "code",
   "execution_count": null,
   "metadata": {},
   "outputs": [],
   "source": [
    "# Import BeautifulSoup and other libraries you find useful"
   ]
  },
  {
   "cell_type": "markdown",
   "metadata": {},
   "source": [
    "### a.\n",
    "Build a flexible crawler based on search method"
   ]
  },
  {
   "cell_type": "markdown",
   "metadata": {},
   "source": [
    "### b.\n",
    "\n",
    "Test it against these websites:\n",
    "* https://scraping-cap4.herokuapp.com/\n",
    "* https://www.amazon.com.br/\n",
    "* https://www3.livrariacultura.com.br/\n",
    "\n",
    "Obtain the following data:\n",
    "* Book title\n",
    "* Book author\n",
    "* Book price\n",
    "* Book cover"
   ]
  }
 ],
 "metadata": {
  "kernelspec": {
   "display_name": "Python 3.9.13 64-bit (microsoft store)",
   "language": "python",
   "name": "python3"
  },
  "language_info": {
   "name": "python",
   "version": "3.9.13"
  },
  "orig_nbformat": 4,
  "vscode": {
   "interpreter": {
    "hash": "b7f22e608a9410c9a00adbb49e3cb6a72010c497ae6b30c9496ff58de178a89c"
   }
  }
 },
 "nbformat": 4,
 "nbformat_minor": 2
}
