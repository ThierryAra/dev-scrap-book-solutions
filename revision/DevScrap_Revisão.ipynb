{
  "nbformat": 4,
  "nbformat_minor": 0,
  "metadata": {
    "colab": {
      "provenance": [],
      "collapsed_sections": [
        "sFmF_aA2qK1N",
        "g8k2UyHty8zy"
      ]
    },
    "kernelspec": {
      "name": "python3",
      "display_name": "Python 3"
    },
    "language_info": {
      "name": "python"
    }
  },
  "cells": [
    {
      "cell_type": "markdown",
      "source": [
        "# Dev.scrap - Revisão\n",
        "\n",
        "---\n",
        "\n",
        "Este notebook visa fazer uma revisão dos conteúdos dos Capítulos 1 até 4 do livro \"Web Scraping com Python\" da Ryan Mitchell.\n",
        "\n",
        "*Observação*: É uma boa atualizar esse notebook para cada começo de ano para continuar a frente sem ter que voltar do zero."
      ],
      "metadata": {
        "id": "HqO7KcFIowM6"
      }
    },
    {
      "cell_type": "code",
      "source": [
        "from urllib.request import urlopen\n",
        "from urllib.error import HTTPError, URLError\n",
        "from urllib.parse import urlparse\n",
        "from bs4 import BeautifulSoup\n",
        "import re\n",
        "import random"
      ],
      "metadata": {
        "id": "eZshqnkMty-5"
      },
      "execution_count": null,
      "outputs": []
    },
    {
      "cell_type": "markdown",
      "source": [
        "## Capítulo 1 e 2"
      ],
      "metadata": {
        "id": "sFmF_aA2qK1N"
      }
    },
    {
      "cell_type": "markdown",
      "source": [
        "No capítulo 1, aprendemos o básico sobre como obter uma página web a partir de um código Python e transformá-lo em um objeto BeautifulSoup para podermos navegar facilmente pelas tags, classes e tudo o que compõe o HTML.\n",
        "\n",
        "Já no capítulo 2, aprendemos a usar o Beautiful Soup e todas as ferramentas que ele nos tem a oferecer, além disso, aprendemos um pouco sobre expressões regulares.\n",
        "\n",
        "Caso queira treinar os conhecimentos deste capítulo, utilize este [notebook](https://github.com/USPCodeLabSanca/dev-scrap-book-solutions/blob/main/caps%201-2/chapter1-2.ipynb)."
      ],
      "metadata": {
        "id": "fw6tozy1rSb8"
      }
    },
    {
      "cell_type": "markdown",
      "source": [
        "Para obter uma página web e transformá-la em um objeto BeautifulSoup, faça o seguinte:"
      ],
      "metadata": {
        "id": "pIdeLWk5tX5x"
      }
    },
    {
      "cell_type": "code",
      "execution_count": null,
      "metadata": {
        "id": "XyYTD_qxod3u"
      },
      "outputs": [],
      "source": [
        "def getPage(url):\n",
        "  try:\n",
        "    html = urlopen(url)\n",
        "  except HTTPError:\n",
        "    return None\n",
        "  except URLError:\n",
        "    return None\n",
        "  return html\n",
        "\n",
        "def getBS(url):\n",
        "  page = getPage(url)\n",
        "  if page:\n",
        "    return BeautifulSoup(getPage(url).read(), 'html.parser')\n",
        "  return None"
      ]
    },
    {
      "cell_type": "code",
      "source": [
        "site = getBS(\"https://scraping-cap1-2.netlify.app/\")\n",
        "site"
      ],
      "metadata": {
        "colab": {
          "base_uri": "https://localhost:8080/"
        },
        "id": "2lJybCf4unWM",
        "outputId": "37417e74-d10f-4fe3-8e12-a625648c3875"
      },
      "execution_count": null,
      "outputs": [
        {
          "output_type": "execute_result",
          "data": {
            "text/plain": [
              "<!DOCTYPE html>\n",
              "\n",
              "<html lang=\"en\">\n",
              "<head>\n",
              "<meta charset=\"utf-8\"/>\n",
              "<meta content=\"IE=edge\" http-equiv=\"X-UA-Compatible\"/>\n",
              "<meta content=\"width=device-width, initial-scale=1.0\" name=\"viewport\"/>\n",
              "<title>Caps 1-2</title>\n",
              "</head>\n",
              "<style>\n",
              "\n",
              "    body {\n",
              "        margin: 0;\n",
              "        padding: 1em 1em 2em 1em;\n",
              "    }\n",
              "    table {\n",
              "        margin: 1em 0em;\n",
              "        font-family: arial, sans-serif;\n",
              "        border-collapse: collapse;\n",
              "        width: 100%;\n",
              "    }\n",
              "    \n",
              "    td, th {\n",
              "        border: 1px solid #dddddd;\n",
              "        text-align: left;\n",
              "        padding: 8px;\n",
              "    }\n",
              "    \n",
              "    .oscar {\n",
              "        background-color: gold !important; \n",
              "    }\n",
              "    \n",
              "    tr:nth-child(even) {\n",
              "      background-color: #dddddd;\n",
              "    }\n",
              "\n",
              "    img {\n",
              "        width: 15%;\n",
              "        max-height: 5%;\n",
              "    }\n",
              "\n",
              "</style>\n",
              "<body>\n",
              "<h1>Movie List by Production Companies</h1>\n",
              "<div id=\"warner\">\n",
              "<h2>Warner Bros. Pictures</h2>\n",
              "<img alt=\"warner\" src=\"https://upload.wikimedia.org/wikipedia/commons/thumb/d/d2/Warner_Bros._%282019%29_logo.svg/1200px-Warner_Bros._%282019%29_logo.svg.png\"/>\n",
              "<table>\n",
              "<tr>\n",
              "<th>Movie</th>\n",
              "<th>Actors</th>\n",
              "<th>Year</th>\n",
              "<th>Director</th>\n",
              "</tr>\n",
              "<tr>\n",
              "<td>Harry Potter and the Philosopher's Stone</td>\n",
              "<td>Daniel Radcliffe, Emma Watson, Rupert Grint, Alan Rickman, Richard Harris</td>\n",
              "<td>2001</td>\n",
              "<td>Chris Columbus</td>\n",
              "</tr>\n",
              "<tr>\n",
              "<td>Harry Potter and the Chamber of Secrets</td>\n",
              "<td>Daniel Radcliffe, Emma Watson, Rupert Grint, Alan Rickman, Richard Harris</td>\n",
              "<td>2002</td>\n",
              "<td>Chris Columbus</td>\n",
              "</tr>\n",
              "<tr>\n",
              "<td>Harry Potter and the Prisoner of Askaban</td>\n",
              "<td>Daniel Radcliffe, Emma Watson, Rupert Grint, Alan Rickman, Michael Gambon</td>\n",
              "<td>2004</td>\n",
              "<td>Alfonso Cuarón</td>\n",
              "</tr>\n",
              "<tr>\n",
              "<td>Harry Potter and the Goblet of Fire</td>\n",
              "<td>Daniel Radcliffe, Emma Watson, Rupert Grint, Alan Rickman, Michael Gambon</td>\n",
              "<td>2005</td>\n",
              "<td>Mike Newell</td>\n",
              "</tr>\n",
              "<tr>\n",
              "<td>Harry Potter and the Order of the Phoenix</td>\n",
              "<td>Daniel Radcliffe, Emma Watson, Rupert Grint, Alan Rickman, Michael Gambon</td>\n",
              "<td>2007</td>\n",
              "<td>David Yates</td>\n",
              "</tr>\n",
              "<tr>\n",
              "<td>Harry Potter and the Half-Blood Prince</td>\n",
              "<td>Daniel Radcliffe, Emma Watson, Rupert Grint, Alan Rickman, Michael Gambon</td>\n",
              "<td>2009</td>\n",
              "<td>David Yates</td>\n",
              "</tr>\n",
              "<tr>\n",
              "<td>Harry Potter and the Deathly Hallows: Part 1</td>\n",
              "<td>Daniel Radcliffe, Emma Watson, Rupert Grint, Alan Rickman, Michael Gambon</td>\n",
              "<td>2010</td>\n",
              "<td>David Yates</td>\n",
              "</tr>\n",
              "<tr>\n",
              "<td>Harry Potter and the Deathly Hallows: Part 2</td>\n",
              "<td>Daniel Radcliffe, Emma Watson, Rupert Grint, Alan Rickman, Michael Gambon</td>\n",
              "<td>2011</td>\n",
              "<td>David Yates</td>\n",
              "</tr>\n",
              "<tr>\n",
              "<td>Dune</td>\n",
              "<td>Timothée Chalamet, Rebecca Ferguson, Oscar Isaac</td>\n",
              "<td>2021</td>\n",
              "<td>Denis Villeneuve</td>\n",
              "</tr>\n",
              "</table>\n",
              "</div>\n",
              "<br/>\n",
              "<hr/>\n",
              "<br/>\n",
              "<div id=\"participant\">\n",
              "<h2>Participant Films</h2>\n",
              "<img alt=\"participant\" src=\"https://upload.wikimedia.org/wikipedia/commons/0/07/Participant_%282019%29.svg\"/>\n",
              "<table>\n",
              "<tr>\n",
              "<th>Movie</th>\n",
              "<th>Actors</th>\n",
              "<th>Director</th>\n",
              "<th>Year</th>\n",
              "</tr>\n",
              "<tr class=\"oscar\">\n",
              "<td>Green Book</td>\n",
              "<td>Viggo Mortensen, Mahershala Ali, Linda Cardellini</td>\n",
              "<td>Peter Farrelly</td>\n",
              "<td>2018</td>\n",
              "</tr>\n",
              "<tr class=\"oscar\">\n",
              "<td>The Post</td>\n",
              "<td>Meryl Streep, Tom Hanks, Sarah Paulson</td>\n",
              "<td>Steven Spielberg</td>\n",
              "<td>2017</td>\n",
              "</tr>\n",
              "<tr class=\"oscar\">\n",
              "<td>Roma</td>\n",
              "<td>Yalitza Aparicio, Marina de Tavira</td>\n",
              "<td>Alfonso Cuarón</td>\n",
              "<td>2018</td>\n",
              "</tr>\n",
              "<tr class=\"oscar\">\n",
              "<td>Spotlight</td>\n",
              "<td>Mark Rufallo, Michael Keaton, Rachel McAdams</td>\n",
              "<td>Tom McCarthy</td>\n",
              "<td>2015</td>\n",
              "</tr>\n",
              "</table>\n",
              "</div>\n",
              "</body>\n",
              "</html>"
            ]
          },
          "metadata": {},
          "execution_count": 108
        }
      ]
    },
    {
      "cell_type": "markdown",
      "source": [
        "Para acessar o primeiro de um tipo de tag no escopo em que está, podemos fazer de duas maneiras:"
      ],
      "metadata": {
        "id": "liVQhHy2v5Ux"
      }
    },
    {
      "cell_type": "code",
      "source": [
        "print(site.h2)\n",
        "print(site.find('h2'))"
      ],
      "metadata": {
        "id": "3mwNtAN0wDyg",
        "colab": {
          "base_uri": "https://localhost:8080/"
        },
        "outputId": "b550e4f4-f136-4ae9-a181-9e729c34a85b"
      },
      "execution_count": null,
      "outputs": [
        {
          "output_type": "stream",
          "name": "stdout",
          "text": [
            "<h2>Warner Bros. Pictures</h2>\n",
            "<h2>Warner Bros. Pictures</h2>\n"
          ]
        }
      ]
    },
    {
      "cell_type": "markdown",
      "source": [
        "Se quiser acessar o valor textual da tag, use `.get_text()`"
      ],
      "metadata": {
        "id": "3jV5r3h9xCmB"
      }
    },
    {
      "cell_type": "code",
      "source": [
        "print(site.h2.get_text())"
      ],
      "metadata": {
        "colab": {
          "base_uri": "https://localhost:8080/"
        },
        "id": "YIFPVeI7w7Ox",
        "outputId": "48a2ada5-b889-417c-a1d5-a7fb7ab7b8f5"
      },
      "execution_count": null,
      "outputs": [
        {
          "output_type": "stream",
          "name": "stdout",
          "text": [
            "Warner Bros. Pictures\n"
          ]
        }
      ]
    },
    {
      "cell_type": "markdown",
      "source": [
        "Para encontrar determinadas tags a partir de uma pesquisa, utilizaremos principalmente dois métodos com definições parecidas:\n",
        "* `find_all(tag, attributes, recursive, text, limit, keywords)`\n",
        "* `find(tag, attributres, recursive, text, keywords)`"
      ],
      "metadata": {
        "id": "nxt3hvQIxJIY"
      }
    },
    {
      "cell_type": "markdown",
      "source": [
        "Com o parâmetro `tag`, podemos passar uma tag ou uma lista de tags:"
      ],
      "metadata": {
        "id": "TG_0Jl4mx3qj"
      }
    },
    {
      "cell_type": "code",
      "source": [
        "print(site.find('h2'))\n",
        "print(site.find_all('h2'))\n",
        "\n",
        "print(site.find(['h1', 'h2'])) # Retorna a primeira tag encontrada dentre as passadas na lista\n",
        "print(site.find_all(['h1', 'h2']))"
      ],
      "metadata": {
        "colab": {
          "base_uri": "https://localhost:8080/"
        },
        "id": "kj5tA_eexqai",
        "outputId": "29c65fdd-b50b-45b8-f8e6-ec9acc917b4e"
      },
      "execution_count": null,
      "outputs": [
        {
          "output_type": "stream",
          "name": "stdout",
          "text": [
            "<h2>Warner Bros. Pictures</h2>\n",
            "[<h2>Warner Bros. Pictures</h2>, <h2>Participant Films</h2>]\n",
            "<h1>Movie List by Production Companies</h1>\n",
            "[<h1>Movie List by Production Companies</h1>, <h2>Warner Bros. Pictures</h2>, <h2>Participant Films</h2>]\n"
          ]
        }
      ]
    },
    {
      "cell_type": "markdown",
      "source": [
        "Com o parâmetro `attributes`, é passado um dicionário que faz a correspondência com tags que contenham qualquer um desses atributos."
      ],
      "metadata": {
        "id": "nZQvPpTRyoab"
      }
    },
    {
      "cell_type": "code",
      "source": [
        "print(site.find_all('tr', {'class': {'oscar', 'cannes'}})) # Retornam todas as tags tr que tenham classe 'oscar' OU 'cannes' "
      ],
      "metadata": {
        "colab": {
          "base_uri": "https://localhost:8080/"
        },
        "id": "Gq2b20VUxaQk",
        "outputId": "32bc725a-4cf9-4d20-ff19-f3bcef578602"
      },
      "execution_count": null,
      "outputs": [
        {
          "output_type": "stream",
          "name": "stdout",
          "text": [
            "[<tr class=\"oscar\">\n",
            "<td>Green Book</td>\n",
            "<td>Viggo Mortensen, Mahershala Ali, Linda Cardellini</td>\n",
            "<td>Peter Farrelly</td>\n",
            "<td>2018</td>\n",
            "</tr>, <tr class=\"oscar\">\n",
            "<td>The Post</td>\n",
            "<td>Meryl Streep, Tom Hanks, Sarah Paulson</td>\n",
            "<td>Steven Spielberg</td>\n",
            "<td>2017</td>\n",
            "</tr>, <tr class=\"oscar\">\n",
            "<td>Roma</td>\n",
            "<td>Yalitza Aparicio, Marina de Tavira</td>\n",
            "<td>Alfonso Cuarón</td>\n",
            "<td>2018</td>\n",
            "</tr>, <tr class=\"oscar\">\n",
            "<td>Spotlight</td>\n",
            "<td>Mark Rufallo, Michael Keaton, Rachel McAdams</td>\n",
            "<td>Tom McCarthy</td>\n",
            "<td>2015</td>\n",
            "</tr>]\n"
          ]
        }
      ]
    },
    {
      "cell_type": "markdown",
      "source": [
        "O parâmetro `recursive` (`True` por default) detalha o nível de aprofundamento que o `find` ou `find_all` pode ter. Caso esteja setado para `True`, pode vasculhar toda a árvore do DOM para baixo. Caso contrário, analisa apenas o nível mais superficial."
      ],
      "metadata": {
        "id": "AaS780_Sz4j6"
      }
    },
    {
      "cell_type": "code",
      "source": [
        "print(site.find('td', recursive=False))\n",
        "print(site.find('td', recursive=True))\n",
        "print(site.find('td'))"
      ],
      "metadata": {
        "colab": {
          "base_uri": "https://localhost:8080/"
        },
        "id": "NpVcmbPTz0Be",
        "outputId": "be4d0ab5-f5df-4da5-dd6b-d1725cf1c843"
      },
      "execution_count": null,
      "outputs": [
        {
          "output_type": "stream",
          "name": "stdout",
          "text": [
            "None\n",
            "<td>Harry Potter and the Philosopher's Stone</td>\n",
            "<td>Harry Potter and the Philosopher's Stone</td>\n"
          ]
        }
      ]
    },
    {
      "cell_type": "markdown",
      "source": [
        "O parâmetro `string` (`text` está depreciado) faz uma busca no conteúdo textual das tags."
      ],
      "metadata": {
        "id": "t21FrT5E0z2A"
      }
    },
    {
      "cell_type": "code",
      "source": [
        "print(site.find(string=\"Green Book\"))"
      ],
      "metadata": {
        "colab": {
          "base_uri": "https://localhost:8080/"
        },
        "id": "-YN5mogv0wdY",
        "outputId": "94be1c8f-c4a5-4840-b878-eb6ac1fc3da2"
      },
      "execution_count": null,
      "outputs": [
        {
          "output_type": "stream",
          "name": "stdout",
          "text": [
            "Green Book\n"
          ]
        }
      ]
    },
    {
      "cell_type": "markdown",
      "source": [
        "O parâmetro `limit` é usado somente no `find_all` e retorna os $n$ primeiros resultados especificados pela pesquisa."
      ],
      "metadata": {
        "id": "y1XTf6zN1qGA"
      }
    },
    {
      "cell_type": "code",
      "source": [
        "print(site.find_all('td', limit=2))\n",
        "print(len(site.find_all('td')))"
      ],
      "metadata": {
        "colab": {
          "base_uri": "https://localhost:8080/"
        },
        "id": "0rRWOGK32GwK",
        "outputId": "39183926-8c17-4a64-9514-172b1fc232d0"
      },
      "execution_count": null,
      "outputs": [
        {
          "output_type": "stream",
          "name": "stdout",
          "text": [
            "[<td>Harry Potter and the Philosopher's Stone</td>, <td>Daniel Radcliffe, Emma Watson, Rupert Grint, Alan Rickman, Richard Harris</td>]\n",
            "52\n"
          ]
        }
      ]
    },
    {
      "cell_type": "markdown",
      "source": [
        "O parâmetro `keyword` permite definir que os resultados deverão ter atributos com os seguintes valores.\n",
        "\n",
        "Diferentemente do `attributes` que funciona com um OR, o keyword funciona com um AND."
      ],
      "metadata": {
        "id": "AtBtyOKU3QV7"
      }
    },
    {
      "cell_type": "code",
      "source": [
        "print(site.find(id=\"warner\"))\n",
        "print(site.find(class_=\"oscar\"))"
      ],
      "metadata": {
        "colab": {
          "base_uri": "https://localhost:8080/"
        },
        "id": "3Hdo908p25PA",
        "outputId": "90982f05-0862-42ff-e559-105bec8aed63"
      },
      "execution_count": null,
      "outputs": [
        {
          "output_type": "stream",
          "name": "stdout",
          "text": [
            "<div id=\"warner\">\n",
            "<h2>Warner Bros. Pictures</h2>\n",
            "<img alt=\"warner\" src=\"https://upload.wikimedia.org/wikipedia/commons/thumb/d/d2/Warner_Bros._%282019%29_logo.svg/1200px-Warner_Bros._%282019%29_logo.svg.png\"/>\n",
            "<table>\n",
            "<tr>\n",
            "<th>Movie</th>\n",
            "<th>Actors</th>\n",
            "<th>Year</th>\n",
            "<th>Director</th>\n",
            "</tr>\n",
            "<tr>\n",
            "<td>Harry Potter and the Philosopher's Stone</td>\n",
            "<td>Daniel Radcliffe, Emma Watson, Rupert Grint, Alan Rickman, Richard Harris</td>\n",
            "<td>2001</td>\n",
            "<td>Chris Columbus</td>\n",
            "</tr>\n",
            "<tr>\n",
            "<td>Harry Potter and the Chamber of Secrets</td>\n",
            "<td>Daniel Radcliffe, Emma Watson, Rupert Grint, Alan Rickman, Richard Harris</td>\n",
            "<td>2002</td>\n",
            "<td>Chris Columbus</td>\n",
            "</tr>\n",
            "<tr>\n",
            "<td>Harry Potter and the Prisoner of Askaban</td>\n",
            "<td>Daniel Radcliffe, Emma Watson, Rupert Grint, Alan Rickman, Michael Gambon</td>\n",
            "<td>2004</td>\n",
            "<td>Alfonso Cuarón</td>\n",
            "</tr>\n",
            "<tr>\n",
            "<td>Harry Potter and the Goblet of Fire</td>\n",
            "<td>Daniel Radcliffe, Emma Watson, Rupert Grint, Alan Rickman, Michael Gambon</td>\n",
            "<td>2005</td>\n",
            "<td>Mike Newell</td>\n",
            "</tr>\n",
            "<tr>\n",
            "<td>Harry Potter and the Order of the Phoenix</td>\n",
            "<td>Daniel Radcliffe, Emma Watson, Rupert Grint, Alan Rickman, Michael Gambon</td>\n",
            "<td>2007</td>\n",
            "<td>David Yates</td>\n",
            "</tr>\n",
            "<tr>\n",
            "<td>Harry Potter and the Half-Blood Prince</td>\n",
            "<td>Daniel Radcliffe, Emma Watson, Rupert Grint, Alan Rickman, Michael Gambon</td>\n",
            "<td>2009</td>\n",
            "<td>David Yates</td>\n",
            "</tr>\n",
            "<tr>\n",
            "<td>Harry Potter and the Deathly Hallows: Part 1</td>\n",
            "<td>Daniel Radcliffe, Emma Watson, Rupert Grint, Alan Rickman, Michael Gambon</td>\n",
            "<td>2010</td>\n",
            "<td>David Yates</td>\n",
            "</tr>\n",
            "<tr>\n",
            "<td>Harry Potter and the Deathly Hallows: Part 2</td>\n",
            "<td>Daniel Radcliffe, Emma Watson, Rupert Grint, Alan Rickman, Michael Gambon</td>\n",
            "<td>2011</td>\n",
            "<td>David Yates</td>\n",
            "</tr>\n",
            "<tr>\n",
            "<td>Dune</td>\n",
            "<td>Timothée Chalamet, Rebecca Ferguson, Oscar Isaac</td>\n",
            "<td>2021</td>\n",
            "<td>Denis Villeneuve</td>\n",
            "</tr>\n",
            "</table>\n",
            "</div>\n",
            "<tr class=\"oscar\">\n",
            "<td>Green Book</td>\n",
            "<td>Viggo Mortensen, Mahershala Ali, Linda Cardellini</td>\n",
            "<td>Peter Farrelly</td>\n",
            "<td>2018</td>\n",
            "</tr>\n"
          ]
        }
      ]
    },
    {
      "cell_type": "markdown",
      "source": [
        "Para conseguir todas as tags filhas de uma tag, você pode usar o `.children`. \n",
        "\n",
        "Ele gera um iterador, caso você queria uma lista, pode usar o `.find_all(recursive=False)`.\n",
        "\n",
        "*Observação*: note que o `child` no código abaixo retorna umas linhas vazias, então fique atento a isso ao usar o `.children`"
      ],
      "metadata": {
        "id": "SSxfW9w86Cxp"
      }
    },
    {
      "cell_type": "code",
      "source": [
        "participant = site.find(id='participant')\n",
        "for i, child in enumerate(participant.children):\n",
        "  print(i, child)\n",
        "\n",
        "print(len(participant.find_all(recursive=False)))"
      ],
      "metadata": {
        "colab": {
          "base_uri": "https://localhost:8080/"
        },
        "id": "tOS3re1z4aV2",
        "outputId": "4122cc33-284f-4105-b84d-282b82c600c5"
      },
      "execution_count": null,
      "outputs": [
        {
          "output_type": "stream",
          "name": "stdout",
          "text": [
            "0 \n",
            "\n",
            "1 <h2>Participant Films</h2>\n",
            "2 \n",
            "\n",
            "3 <img alt=\"participant\" src=\"https://upload.wikimedia.org/wikipedia/commons/0/07/Participant_%282019%29.svg\"/>\n",
            "4 \n",
            "\n",
            "5 <table>\n",
            "<tr>\n",
            "<th>Movie</th>\n",
            "<th>Actors</th>\n",
            "<th>Director</th>\n",
            "<th>Year</th>\n",
            "</tr>\n",
            "<tr class=\"oscar\">\n",
            "<td>Green Book</td>\n",
            "<td>Viggo Mortensen, Mahershala Ali, Linda Cardellini</td>\n",
            "<td>Peter Farrelly</td>\n",
            "<td>2018</td>\n",
            "</tr>\n",
            "<tr class=\"oscar\">\n",
            "<td>The Post</td>\n",
            "<td>Meryl Streep, Tom Hanks, Sarah Paulson</td>\n",
            "<td>Steven Spielberg</td>\n",
            "<td>2017</td>\n",
            "</tr>\n",
            "<tr class=\"oscar\">\n",
            "<td>Roma</td>\n",
            "<td>Yalitza Aparicio, Marina de Tavira</td>\n",
            "<td>Alfonso Cuarón</td>\n",
            "<td>2018</td>\n",
            "</tr>\n",
            "<tr class=\"oscar\">\n",
            "<td>Spotlight</td>\n",
            "<td>Mark Rufallo, Michael Keaton, Rachel McAdams</td>\n",
            "<td>Tom McCarthy</td>\n",
            "<td>2015</td>\n",
            "</tr>\n",
            "</table>\n",
            "6 \n",
            "\n",
            "3\n"
          ]
        }
      ]
    },
    {
      "cell_type": "markdown",
      "source": [
        "Para conseguir todas as tags descendentes de uma tag, você pode usar o `.descendants`. \n",
        "\n",
        "Ele gera um iterador, caso você queria uma lista, pode usar o `.find_all()`."
      ],
      "metadata": {
        "id": "3gtOa-nN93rs"
      }
    },
    {
      "cell_type": "code",
      "source": [
        "for i, child in enumerate(participant.descendants):\n",
        "  print(i, child)\n",
        "\n",
        "print(participant.find_all())"
      ],
      "metadata": {
        "colab": {
          "base_uri": "https://localhost:8080/"
        },
        "id": "R5OIubo29-S-",
        "outputId": "d98cdeff-8dda-49cc-9297-8054fb7991b3"
      },
      "execution_count": null,
      "outputs": [
        {
          "output_type": "stream",
          "name": "stdout",
          "text": [
            "0 \n",
            "\n",
            "1 <h2>Participant Films</h2>\n",
            "2 Participant Films\n",
            "3 \n",
            "\n",
            "4 <img alt=\"participant\" src=\"https://upload.wikimedia.org/wikipedia/commons/0/07/Participant_%282019%29.svg\"/>\n",
            "5 \n",
            "\n",
            "6 <table>\n",
            "<tr>\n",
            "<th>Movie</th>\n",
            "<th>Actors</th>\n",
            "<th>Director</th>\n",
            "<th>Year</th>\n",
            "</tr>\n",
            "<tr class=\"oscar\">\n",
            "<td>Green Book</td>\n",
            "<td>Viggo Mortensen, Mahershala Ali, Linda Cardellini</td>\n",
            "<td>Peter Farrelly</td>\n",
            "<td>2018</td>\n",
            "</tr>\n",
            "<tr class=\"oscar\">\n",
            "<td>The Post</td>\n",
            "<td>Meryl Streep, Tom Hanks, Sarah Paulson</td>\n",
            "<td>Steven Spielberg</td>\n",
            "<td>2017</td>\n",
            "</tr>\n",
            "<tr class=\"oscar\">\n",
            "<td>Roma</td>\n",
            "<td>Yalitza Aparicio, Marina de Tavira</td>\n",
            "<td>Alfonso Cuarón</td>\n",
            "<td>2018</td>\n",
            "</tr>\n",
            "<tr class=\"oscar\">\n",
            "<td>Spotlight</td>\n",
            "<td>Mark Rufallo, Michael Keaton, Rachel McAdams</td>\n",
            "<td>Tom McCarthy</td>\n",
            "<td>2015</td>\n",
            "</tr>\n",
            "</table>\n",
            "7 \n",
            "\n",
            "8 <tr>\n",
            "<th>Movie</th>\n",
            "<th>Actors</th>\n",
            "<th>Director</th>\n",
            "<th>Year</th>\n",
            "</tr>\n",
            "9 \n",
            "\n",
            "10 <th>Movie</th>\n",
            "11 Movie\n",
            "12 \n",
            "\n",
            "13 <th>Actors</th>\n",
            "14 Actors\n",
            "15 \n",
            "\n",
            "16 <th>Director</th>\n",
            "17 Director\n",
            "18 \n",
            "\n",
            "19 <th>Year</th>\n",
            "20 Year\n",
            "21 \n",
            "\n",
            "22 \n",
            "\n",
            "23 <tr class=\"oscar\">\n",
            "<td>Green Book</td>\n",
            "<td>Viggo Mortensen, Mahershala Ali, Linda Cardellini</td>\n",
            "<td>Peter Farrelly</td>\n",
            "<td>2018</td>\n",
            "</tr>\n",
            "24 \n",
            "\n",
            "25 <td>Green Book</td>\n",
            "26 Green Book\n",
            "27 \n",
            "\n",
            "28 <td>Viggo Mortensen, Mahershala Ali, Linda Cardellini</td>\n",
            "29 Viggo Mortensen, Mahershala Ali, Linda Cardellini\n",
            "30 \n",
            "\n",
            "31 <td>Peter Farrelly</td>\n",
            "32 Peter Farrelly\n",
            "33 \n",
            "\n",
            "34 <td>2018</td>\n",
            "35 2018\n",
            "36 \n",
            "\n",
            "37 \n",
            "\n",
            "38 <tr class=\"oscar\">\n",
            "<td>The Post</td>\n",
            "<td>Meryl Streep, Tom Hanks, Sarah Paulson</td>\n",
            "<td>Steven Spielberg</td>\n",
            "<td>2017</td>\n",
            "</tr>\n",
            "39 \n",
            "\n",
            "40 <td>The Post</td>\n",
            "41 The Post\n",
            "42 \n",
            "\n",
            "43 <td>Meryl Streep, Tom Hanks, Sarah Paulson</td>\n",
            "44 Meryl Streep, Tom Hanks, Sarah Paulson\n",
            "45 \n",
            "\n",
            "46 <td>Steven Spielberg</td>\n",
            "47 Steven Spielberg\n",
            "48 \n",
            "\n",
            "49 <td>2017</td>\n",
            "50 2017\n",
            "51 \n",
            "\n",
            "52 \n",
            "\n",
            "53 <tr class=\"oscar\">\n",
            "<td>Roma</td>\n",
            "<td>Yalitza Aparicio, Marina de Tavira</td>\n",
            "<td>Alfonso Cuarón</td>\n",
            "<td>2018</td>\n",
            "</tr>\n",
            "54 \n",
            "\n",
            "55 <td>Roma</td>\n",
            "56 Roma\n",
            "57 \n",
            "\n",
            "58 <td>Yalitza Aparicio, Marina de Tavira</td>\n",
            "59 Yalitza Aparicio, Marina de Tavira\n",
            "60 \n",
            "\n",
            "61 <td>Alfonso Cuarón</td>\n",
            "62 Alfonso Cuarón\n",
            "63 \n",
            "\n",
            "64 <td>2018</td>\n",
            "65 2018\n",
            "66 \n",
            "\n",
            "67 \n",
            "\n",
            "68 <tr class=\"oscar\">\n",
            "<td>Spotlight</td>\n",
            "<td>Mark Rufallo, Michael Keaton, Rachel McAdams</td>\n",
            "<td>Tom McCarthy</td>\n",
            "<td>2015</td>\n",
            "</tr>\n",
            "69 \n",
            "\n",
            "70 <td>Spotlight</td>\n",
            "71 Spotlight\n",
            "72 \n",
            "\n",
            "73 <td>Mark Rufallo, Michael Keaton, Rachel McAdams</td>\n",
            "74 Mark Rufallo, Michael Keaton, Rachel McAdams\n",
            "75 \n",
            "\n",
            "76 <td>Tom McCarthy</td>\n",
            "77 Tom McCarthy\n",
            "78 \n",
            "\n",
            "79 <td>2015</td>\n",
            "80 2015\n",
            "81 \n",
            "\n",
            "82 \n",
            "\n",
            "83 \n",
            "\n",
            "[<h2>Participant Films</h2>, <img alt=\"participant\" src=\"https://upload.wikimedia.org/wikipedia/commons/0/07/Participant_%282019%29.svg\"/>, <table>\n",
            "<tr>\n",
            "<th>Movie</th>\n",
            "<th>Actors</th>\n",
            "<th>Director</th>\n",
            "<th>Year</th>\n",
            "</tr>\n",
            "<tr class=\"oscar\">\n",
            "<td>Green Book</td>\n",
            "<td>Viggo Mortensen, Mahershala Ali, Linda Cardellini</td>\n",
            "<td>Peter Farrelly</td>\n",
            "<td>2018</td>\n",
            "</tr>\n",
            "<tr class=\"oscar\">\n",
            "<td>The Post</td>\n",
            "<td>Meryl Streep, Tom Hanks, Sarah Paulson</td>\n",
            "<td>Steven Spielberg</td>\n",
            "<td>2017</td>\n",
            "</tr>\n",
            "<tr class=\"oscar\">\n",
            "<td>Roma</td>\n",
            "<td>Yalitza Aparicio, Marina de Tavira</td>\n",
            "<td>Alfonso Cuarón</td>\n",
            "<td>2018</td>\n",
            "</tr>\n",
            "<tr class=\"oscar\">\n",
            "<td>Spotlight</td>\n",
            "<td>Mark Rufallo, Michael Keaton, Rachel McAdams</td>\n",
            "<td>Tom McCarthy</td>\n",
            "<td>2015</td>\n",
            "</tr>\n",
            "</table>, <tr>\n",
            "<th>Movie</th>\n",
            "<th>Actors</th>\n",
            "<th>Director</th>\n",
            "<th>Year</th>\n",
            "</tr>, <th>Movie</th>, <th>Actors</th>, <th>Director</th>, <th>Year</th>, <tr class=\"oscar\">\n",
            "<td>Green Book</td>\n",
            "<td>Viggo Mortensen, Mahershala Ali, Linda Cardellini</td>\n",
            "<td>Peter Farrelly</td>\n",
            "<td>2018</td>\n",
            "</tr>, <td>Green Book</td>, <td>Viggo Mortensen, Mahershala Ali, Linda Cardellini</td>, <td>Peter Farrelly</td>, <td>2018</td>, <tr class=\"oscar\">\n",
            "<td>The Post</td>\n",
            "<td>Meryl Streep, Tom Hanks, Sarah Paulson</td>\n",
            "<td>Steven Spielberg</td>\n",
            "<td>2017</td>\n",
            "</tr>, <td>The Post</td>, <td>Meryl Streep, Tom Hanks, Sarah Paulson</td>, <td>Steven Spielberg</td>, <td>2017</td>, <tr class=\"oscar\">\n",
            "<td>Roma</td>\n",
            "<td>Yalitza Aparicio, Marina de Tavira</td>\n",
            "<td>Alfonso Cuarón</td>\n",
            "<td>2018</td>\n",
            "</tr>, <td>Roma</td>, <td>Yalitza Aparicio, Marina de Tavira</td>, <td>Alfonso Cuarón</td>, <td>2018</td>, <tr class=\"oscar\">\n",
            "<td>Spotlight</td>\n",
            "<td>Mark Rufallo, Michael Keaton, Rachel McAdams</td>\n",
            "<td>Tom McCarthy</td>\n",
            "<td>2015</td>\n",
            "</tr>, <td>Spotlight</td>, <td>Mark Rufallo, Michael Keaton, Rachel McAdams</td>, <td>Tom McCarthy</td>, <td>2015</td>]\n"
          ]
        }
      ]
    },
    {
      "cell_type": "markdown",
      "source": [
        "Para chamar os irmãos seguintes a uma tag, usamos `.next_siblings`:"
      ],
      "metadata": {
        "id": "1ZQJdivM_cPS"
      }
    },
    {
      "cell_type": "code",
      "source": [
        "the_post = participant.find_all('tr')[2]\n",
        "for sibling in the_post.next_siblings:\n",
        "  print(sibling)"
      ],
      "metadata": {
        "colab": {
          "base_uri": "https://localhost:8080/"
        },
        "id": "1MltBANx-oPM",
        "outputId": "0c5c7399-0b3d-41e6-f23a-e76cbb899947"
      },
      "execution_count": null,
      "outputs": [
        {
          "output_type": "stream",
          "name": "stdout",
          "text": [
            "\n",
            "\n",
            "<tr class=\"oscar\">\n",
            "<td>Roma</td>\n",
            "<td>Yalitza Aparicio, Marina de Tavira</td>\n",
            "<td>Alfonso Cuarón</td>\n",
            "<td>2018</td>\n",
            "</tr>\n",
            "\n",
            "\n",
            "<tr class=\"oscar\">\n",
            "<td>Spotlight</td>\n",
            "<td>Mark Rufallo, Michael Keaton, Rachel McAdams</td>\n",
            "<td>Tom McCarthy</td>\n",
            "<td>2015</td>\n",
            "</tr>\n",
            "\n",
            "\n"
          ]
        }
      ]
    },
    {
      "cell_type": "markdown",
      "source": [
        "Para chamar os irmãos anteriores a uma tag, usamos `.previous_siblings`:"
      ],
      "metadata": {
        "id": "_xEBP7yhAgcw"
      }
    },
    {
      "cell_type": "code",
      "source": [
        "for sibling in the_post.previous_siblings:\n",
        "  print(sibling)"
      ],
      "metadata": {
        "colab": {
          "base_uri": "https://localhost:8080/"
        },
        "id": "lZlSI7GhAaE_",
        "outputId": "8fd3c828-b613-4547-cfa1-d4b52432d260"
      },
      "execution_count": null,
      "outputs": [
        {
          "output_type": "stream",
          "name": "stdout",
          "text": [
            "\n",
            "\n",
            "<tr class=\"oscar\">\n",
            "<td>Green Book</td>\n",
            "<td>Viggo Mortensen, Mahershala Ali, Linda Cardellini</td>\n",
            "<td>Peter Farrelly</td>\n",
            "<td>2018</td>\n",
            "</tr>\n",
            "\n",
            "\n",
            "<tr>\n",
            "<th>Movie</th>\n",
            "<th>Actors</th>\n",
            "<th>Director</th>\n",
            "<th>Year</th>\n",
            "</tr>\n",
            "\n",
            "\n"
          ]
        }
      ]
    },
    {
      "cell_type": "markdown",
      "source": [
        "Para obter a tag pai de uma determinada tag, utilizamos o `.parent`:"
      ],
      "metadata": {
        "id": "F4PA7h-KAxqL"
      }
    },
    {
      "cell_type": "code",
      "source": [
        "the_post.parent"
      ],
      "metadata": {
        "colab": {
          "base_uri": "https://localhost:8080/"
        },
        "id": "sUawbCKcAo4c",
        "outputId": "aa06dd93-cadb-4852-8b2a-aff48a1455b5"
      },
      "execution_count": null,
      "outputs": [
        {
          "output_type": "execute_result",
          "data": {
            "text/plain": [
              "<table>\n",
              "<tr>\n",
              "<th>Movie</th>\n",
              "<th>Actors</th>\n",
              "<th>Director</th>\n",
              "<th>Year</th>\n",
              "</tr>\n",
              "<tr class=\"oscar\">\n",
              "<td>Green Book</td>\n",
              "<td>Viggo Mortensen, Mahershala Ali, Linda Cardellini</td>\n",
              "<td>Peter Farrelly</td>\n",
              "<td>2018</td>\n",
              "</tr>\n",
              "<tr class=\"oscar\">\n",
              "<td>The Post</td>\n",
              "<td>Meryl Streep, Tom Hanks, Sarah Paulson</td>\n",
              "<td>Steven Spielberg</td>\n",
              "<td>2017</td>\n",
              "</tr>\n",
              "<tr class=\"oscar\">\n",
              "<td>Roma</td>\n",
              "<td>Yalitza Aparicio, Marina de Tavira</td>\n",
              "<td>Alfonso Cuarón</td>\n",
              "<td>2018</td>\n",
              "</tr>\n",
              "<tr class=\"oscar\">\n",
              "<td>Spotlight</td>\n",
              "<td>Mark Rufallo, Michael Keaton, Rachel McAdams</td>\n",
              "<td>Tom McCarthy</td>\n",
              "<td>2015</td>\n",
              "</tr>\n",
              "</table>"
            ]
          },
          "metadata": {},
          "execution_count": 121
        }
      ]
    },
    {
      "cell_type": "markdown",
      "source": [
        "Para relembrar a sintaxe do regex (expressão regular), utilize a página 45 do livro.\n",
        "Para usar o regex, utilize o `re.compile()`:"
      ],
      "metadata": {
        "id": "mxhlgawnBDAO"
      }
    },
    {
      "cell_type": "code",
      "source": [
        "site.find_all('img', {'src': re.compile('.*svg')})\n",
        "site.find_all('td', text=re.compile('The Post'))[0].parent"
      ],
      "metadata": {
        "colab": {
          "base_uri": "https://localhost:8080/"
        },
        "id": "hyl4f85NENaM",
        "outputId": "4b681a3f-276b-4624-8969-3a0b89483d9f"
      },
      "execution_count": null,
      "outputs": [
        {
          "output_type": "stream",
          "name": "stderr",
          "text": [
            "<ipython-input-122-e8e87b691a67>:2: DeprecationWarning: The 'text' argument to find()-type methods is deprecated. Use 'string' instead.\n",
            "  site.find_all('td', text=re.compile('The Post'))[0].parent\n"
          ]
        },
        {
          "output_type": "execute_result",
          "data": {
            "text/plain": [
              "<tr class=\"oscar\">\n",
              "<td>The Post</td>\n",
              "<td>Meryl Streep, Tom Hanks, Sarah Paulson</td>\n",
              "<td>Steven Spielberg</td>\n",
              "<td>2017</td>\n",
              "</tr>"
            ]
          },
          "metadata": {},
          "execution_count": 122
        }
      ]
    },
    {
      "cell_type": "markdown",
      "source": [
        "Para acessar atributos de uma tag usamos `.attrs`"
      ],
      "metadata": {
        "id": "0CE9ZjMoFim6"
      }
    },
    {
      "cell_type": "code",
      "source": [
        "site.html.attrs['lang']"
      ],
      "metadata": {
        "colab": {
          "base_uri": "https://localhost:8080/",
          "height": 36
        },
        "id": "BZguSXqHFUs1",
        "outputId": "fd5404db-8038-4d17-c69b-d649e4c8b386"
      },
      "execution_count": null,
      "outputs": [
        {
          "output_type": "execute_result",
          "data": {
            "text/plain": [
              "'en'"
            ],
            "application/vnd.google.colaboratory.intrinsic+json": {
              "type": "string"
            }
          },
          "metadata": {},
          "execution_count": 123
        }
      ]
    },
    {
      "cell_type": "markdown",
      "source": [
        "Para utilizar expressões lambda, precisamos que elas esperem um parâmetro do tipo BeautifulSoup e que retornem um valor booleano. Dessa forma, o `find` e o `find_all` filtram a partir do resultado da expressão."
      ],
      "metadata": {
        "id": "QIP_4oj5F_fD"
      }
    },
    {
      "cell_type": "code",
      "source": [
        "site.find_all(lambda tag: len(tag.attrs) == 2)"
      ],
      "metadata": {
        "colab": {
          "base_uri": "https://localhost:8080/"
        },
        "id": "-IxNqZsnF8kV",
        "outputId": "d1b2ca41-49d9-4852-eaa3-4124bdab43bc"
      },
      "execution_count": null,
      "outputs": [
        {
          "output_type": "execute_result",
          "data": {
            "text/plain": [
              "[<meta content=\"IE=edge\" http-equiv=\"X-UA-Compatible\"/>,\n",
              " <meta content=\"width=device-width, initial-scale=1.0\" name=\"viewport\"/>,\n",
              " <img alt=\"warner\" src=\"https://upload.wikimedia.org/wikipedia/commons/thumb/d/d2/Warner_Bros._%282019%29_logo.svg/1200px-Warner_Bros._%282019%29_logo.svg.png\"/>,\n",
              " <img alt=\"participant\" src=\"https://upload.wikimedia.org/wikipedia/commons/0/07/Participant_%282019%29.svg\"/>]"
            ]
          },
          "metadata": {},
          "execution_count": 124
        }
      ]
    },
    {
      "cell_type": "markdown",
      "source": [
        "## Capítulo 3"
      ],
      "metadata": {
        "id": "g8k2UyHty8zy"
      }
    },
    {
      "cell_type": "markdown",
      "source": [
        "No capítulo 3, aprendemos a escrever nossos primeiros web crawlers. Ou seja, sabemos agora como pular de um site para outro, rastrear um domínio e criar um caminhante aleatório por um domínio ou por um site.\n",
        "\n",
        "Caso queira treinar os conhecimentos deste capítulo, utilize este [notebook](https://github.com/USPCodeLabSanca/dev-scrap-book-solutions/blob/main/cap%203/chapter-3.ipynb)."
      ],
      "metadata": {
        "id": "14RCzjM_zH_U"
      }
    },
    {
      "cell_type": "markdown",
      "source": [
        "Vamos utilizar o site https://scraping-cap3.netlify.app/ nos próximos blocos.\n",
        "\n",
        "Façamos uma função que obtenha todos os links internos presentes em uma página desse website.\n",
        "\n",
        "Obs: perceba que utilizamos um set, pois não queremos links repetidos na nossa lista. No entanto, um link do tipo \"https://scraping-cap3.netlify.app/baixistas.html\" é igual à \"./baixistas.html\" na prática, porém nosso set não irá diferenciar entre os dois."
      ],
      "metadata": {
        "id": "KdMed-7K0c-v"
      }
    },
    {
      "cell_type": "code",
      "source": [
        "def getInternalLinksOfPage(bsObject):\n",
        "  if bsObject is None:\n",
        "    return set()\n",
        "  links = bsObject.find_all('a', {'href': re.compile('(^\\.*\\/.+$)|(https:\\/\\/scraping-cap3\\.netlify\\.app\\/.*)')})\n",
        "  links = set([link.attrs['href'] for link in links])\n",
        "  return links\n",
        "\n",
        "site = getBS(\"https://scraping-cap3.netlify.app/\")\n",
        "getInternalLinksOfPage(site)"
      ],
      "metadata": {
        "colab": {
          "base_uri": "https://localhost:8080/"
        },
        "id": "tIwbgLZE0bBh",
        "outputId": "b82aab78-5cd7-47c6-c23e-320a9c79c278"
      },
      "execution_count": null,
      "outputs": [
        {
          "output_type": "execute_result",
          "data": {
            "text/plain": [
              "{'./baixistas.html',\n",
              " './bandas.html',\n",
              " './bateristas.html',\n",
              " './guitarristas.html',\n",
              " './index.html',\n",
              " './tecladistas.html',\n",
              " './vocalistas.html'}"
            ]
          },
          "metadata": {},
          "execution_count": 162
        }
      ]
    },
    {
      "cell_type": "markdown",
      "source": [
        "Vamos fazer uma função que torna nossos links internos em formato de URL. Para que possamos ter um formato padrão para o nosso set."
      ],
      "metadata": {
        "id": "HEaXzuQE1n2Y"
      }
    },
    {
      "cell_type": "code",
      "source": [
        "def makeInternalLinkAnURL(link):\n",
        "  url = 'https://scraping-cap3.netlify.app/'\n",
        "  if link.startswith('./'):\n",
        "    url += link[2:]\n",
        "  elif link.startswith('/'):\n",
        "    url += link[1:]\n",
        "  elif link.startswith('../'):  # isso está incorreto, mas vamos deixar assim por facilidade\n",
        "    url += link[3:]\n",
        "  else:\n",
        "    return link\n",
        "    \n",
        "  return url\n",
        "\n",
        "makeInternalLinkAnURL(\"./guitarristas.html\")"
      ],
      "metadata": {
        "colab": {
          "base_uri": "https://localhost:8080/",
          "height": 36
        },
        "id": "xsyoZp5N1zVE",
        "outputId": "9c91bee8-84d5-43e3-cc56-32c8f977c515"
      },
      "execution_count": null,
      "outputs": [
        {
          "output_type": "execute_result",
          "data": {
            "text/plain": [
              "'https://scraping-cap3.netlify.app/guitarristas.html'"
            ],
            "application/vnd.google.colaboratory.intrinsic+json": {
              "type": "string"
            }
          },
          "metadata": {},
          "execution_count": 163
        }
      ]
    },
    {
      "cell_type": "markdown",
      "source": [
        "Um domínio funciona como um grafo direcionado, onde as setas representam os direcionamentos de uma página para a outra. Na verdade, toda a internet funciona dessa forma. \n",
        "\n",
        "Para navegarmos a totalidade de um grafo, um algoritmo usual para fazermos isso é uma BFS (*Breadth-first Search*).\n",
        "\n",
        "<img src=\"https://www.guru99.com/images/1/020820_0543_BreadthFirs1.png\" alt=\"BFS diagram\" style=\"height: 50px; width:50px;\"/>\n",
        "\n",
        "O algoritmo funciona da seguinte maneira:\n",
        "1. Temos uma fila que indica a ordem em que iremos visitar cada nó\n",
        "\n",
        "2. Temos um hash-set com os nós já visitados\n",
        "\n",
        "3. Iniciamos a fila com um nó inicial e o hash-set vazio\n",
        "\n",
        "4. A cada iteração\n",
        "  1. Retiramos e obtemos o nó da fila\n",
        "  2. Realizamos alguma operação sobre o nó\n",
        "  3. Adicionamos o nó ao hash-set\n",
        "  2. Adicionamos os nós adjacentes que não estão no hash-set na fila\n",
        "\n",
        "5. Itere enquanto a fila não estiver vazia\n",
        "\n",
        "Vamos fazer uma BFS para navegar pelo domínio:"
      ],
      "metadata": {
        "id": "KmD2gLXH2QbE"
      }
    },
    {
      "cell_type": "code",
      "source": [
        "def bfs(inicial):\n",
        "  fila = [makeInternalLinkAnURL(inicial)]\n",
        "  visitados = set()\n",
        "\n",
        "  while len(fila) > 0:\n",
        "    no = fila.pop()\n",
        "    visitados.add(no)\n",
        "    for link in getInternalLinksOfPage(getBS(no)):\n",
        "      url = makeInternalLinkAnURL(link)\n",
        "      if url not in visitados:\n",
        "        fila.append(url)\n",
        "\n",
        "  return visitados\n",
        "\n",
        "bfs(\"https://scraping-cap3.netlify.app/\")"
      ],
      "metadata": {
        "colab": {
          "base_uri": "https://localhost:8080/"
        },
        "id": "GbXjxloo35Ui",
        "outputId": "3ed328c8-52e1-4129-fc06-1b8ea1aab75b"
      },
      "execution_count": null,
      "outputs": [
        {
          "output_type": "execute_result",
          "data": {
            "text/plain": [
              "{'https://scraping-cap3.netlify.app/',\n",
              " 'https://scraping-cap3.netlify.app/baixistas.html',\n",
              " 'https://scraping-cap3.netlify.app/baixistas/Dee_Dee_Ramone.html',\n",
              " 'https://scraping-cap3.netlify.app/baixistas/Geezer_Butler.html',\n",
              " 'https://scraping-cap3.netlify.app/baixistas/John_Paul_Jones.html',\n",
              " 'https://scraping-cap3.netlify.app/baixistas/Krist_Novoselic.html',\n",
              " 'https://scraping-cap3.netlify.app/baixistas/Paul_McCartney.html',\n",
              " 'https://scraping-cap3.netlify.app/baixistas/Roger_Glover.html',\n",
              " 'https://scraping-cap3.netlify.app/baixistas/Simon_Gallup.html',\n",
              " 'https://scraping-cap3.netlify.app/bandas.html',\n",
              " 'https://scraping-cap3.netlify.app/bandas/Black_Sabbath.html',\n",
              " 'https://scraping-cap3.netlify.app/bandas/Deep_Purple.html',\n",
              " 'https://scraping-cap3.netlify.app/bandas/Led_Zeppelin.html',\n",
              " 'https://scraping-cap3.netlify.app/bandas/Nirvana.html',\n",
              " 'https://scraping-cap3.netlify.app/bandas/Ramones.html',\n",
              " 'https://scraping-cap3.netlify.app/bandas/The_Beatles.html',\n",
              " 'https://scraping-cap3.netlify.app/bandas/The_Cure.html',\n",
              " 'https://scraping-cap3.netlify.app/bandas/The_Doors.html',\n",
              " 'https://scraping-cap3.netlify.app/bateristas.html',\n",
              " 'https://scraping-cap3.netlify.app/bateristas/Bill_Ward.html',\n",
              " 'https://scraping-cap3.netlify.app/bateristas/Dave_Grohl.html',\n",
              " 'https://scraping-cap3.netlify.app/bateristas/Ian_Paice.html',\n",
              " 'https://scraping-cap3.netlify.app/bateristas/Jason_Cooper.html',\n",
              " 'https://scraping-cap3.netlify.app/bateristas/John_Bonham.html',\n",
              " 'https://scraping-cap3.netlify.app/bateristas/John_Densmore.html',\n",
              " 'https://scraping-cap3.netlify.app/bateristas/Ringo_Starr.html',\n",
              " 'https://scraping-cap3.netlify.app/bateristas/Tommy_Ramone.html',\n",
              " 'https://scraping-cap3.netlify.app/guitarristas.html',\n",
              " 'https://scraping-cap3.netlify.app/guitarristas/George_Harrison.html',\n",
              " 'https://scraping-cap3.netlify.app/guitarristas/Jimmy_Page.html',\n",
              " 'https://scraping-cap3.netlify.app/guitarristas/Johnny_Ramone.html',\n",
              " 'https://scraping-cap3.netlify.app/guitarristas/Kurt_Cobain.html',\n",
              " 'https://scraping-cap3.netlify.app/guitarristas/Ritchie_Blackmore.html',\n",
              " 'https://scraping-cap3.netlify.app/guitarristas/Robby_Krieger.html',\n",
              " 'https://scraping-cap3.netlify.app/guitarristas/Robert_Smith.html',\n",
              " 'https://scraping-cap3.netlify.app/guitarristas/Tony_Iommi.html',\n",
              " 'https://scraping-cap3.netlify.app/index.html',\n",
              " 'https://scraping-cap3.netlify.app/tecladistas.html',\n",
              " 'https://scraping-cap3.netlify.app/tecladistas/Jon_Lord.html',\n",
              " 'https://scraping-cap3.netlify.app/tecladistas/Ray_Manzarek.html',\n",
              " 'https://scraping-cap3.netlify.app/vocalistas.html',\n",
              " 'https://scraping-cap3.netlify.app/vocalistas/Ian_Gillan.html',\n",
              " 'https://scraping-cap3.netlify.app/vocalistas/Jim_Morrison.html',\n",
              " 'https://scraping-cap3.netlify.app/vocalistas/Joey_Ramone.html',\n",
              " 'https://scraping-cap3.netlify.app/vocalistas/John_Lennon.html',\n",
              " 'https://scraping-cap3.netlify.app/vocalistas/Kurt_Cobain.html',\n",
              " 'https://scraping-cap3.netlify.app/vocalistas/Ozzy_Osbourne.html',\n",
              " 'https://scraping-cap3.netlify.app/vocalistas/Robert_Plant.html',\n",
              " 'https://scraping-cap3.netlify.app/vocalistas/Robert_Smith.html'}"
            ]
          },
          "metadata": {},
          "execution_count": 164
        }
      ]
    },
    {
      "cell_type": "markdown",
      "source": [
        "Para pegarmos os links externos de um site, pegamos todos os links que não são internos. Para isso, utilizamos a operação de diferença da teoria de conjuntos."
      ],
      "metadata": {
        "id": "wwnH3hg46h3P"
      }
    },
    {
      "cell_type": "code",
      "source": [
        "def getExternalLinksOfPage(bsObject):\n",
        "  if bsObject is None:\n",
        "    return set()\n",
        "  aTags = bsObject.find_all('a')\n",
        "  links = set([tag.attrs['href'] for tag in aTags if 'href' in tag.attrs])\n",
        "  links.difference_update(getInternalLinksOfPage(bsObject))\n",
        "  links = {link for link in links if len(link) > 0}\n",
        "  links = {link for link in links if link[0] == \"h\"}\n",
        "  return links"
      ],
      "metadata": {
        "id": "Cia9EKLW6axu"
      },
      "execution_count": null,
      "outputs": []
    },
    {
      "cell_type": "code",
      "source": [
        "getExternalLinksOfPage(getBS(\"https://scraping-cap3.netlify.app/\"))"
      ],
      "metadata": {
        "colab": {
          "base_uri": "https://localhost:8080/"
        },
        "id": "meD1aHoM6s5T",
        "outputId": "0c476a92-7e34-4403-ec43-e493f5893829"
      },
      "execution_count": null,
      "outputs": [
        {
          "output_type": "stream",
          "name": "stdout",
          "text": [
            "<class 'bs4.BeautifulSoup'>\n"
          ]
        },
        {
          "output_type": "execute_result",
          "data": {
            "text/plain": [
              "{'https://github.com/kibonusp',\n",
              " 'https://www.linkedin.com/in/gabrielfreitas-xv/'}"
            ]
          },
          "metadata": {},
          "execution_count": 166
        }
      ]
    },
    {
      "cell_type": "markdown",
      "source": [
        "Podemos fazer um caminhante aleatório pela internet a partir disso. Você poderia impedir ele de visitar páginas novamente utilizando um set, porém teria que transformar links internos em URLs, mas tô com preguiça pra isso 😜"
      ],
      "metadata": {
        "id": "2egnTIGu6-uy"
      }
    },
    {
      "cell_type": "code",
      "source": [
        "def makeInternalLinkAnURL(link, hostname):\n",
        "  url = hostname\n",
        "  if link.startswith('./'):\n",
        "    url += link[2:]\n",
        "  elif link.startswith('/'):\n",
        "    url += link[1:]\n",
        "  elif link.startswith('../'):  # isso está incorreto, mas vamos deixar assim por facilidade\n",
        "    url += link[3:]\n",
        "  else:\n",
        "    return link\n",
        "    \n",
        "  return url"
      ],
      "metadata": {
        "id": "cXBaXGWGkVHQ"
      },
      "execution_count": null,
      "outputs": []
    },
    {
      "cell_type": "code",
      "source": [
        "o =urlparse(\"https://scraping-cap3.netlify.app/conversa\")\n",
        "o.hostname"
      ],
      "metadata": {
        "colab": {
          "base_uri": "https://localhost:8080/",
          "height": 36
        },
        "id": "bT5duz-ujg6W",
        "outputId": "b7c2a346-2490-4d23-bf84-036514a89254"
      },
      "execution_count": null,
      "outputs": [
        {
          "output_type": "execute_result",
          "data": {
            "text/plain": [
              "'scraping-cap3.netlify.app'"
            ],
            "application/vnd.google.colaboratory.intrinsic+json": {
              "type": "string"
            }
          },
          "metadata": {},
          "execution_count": 168
        }
      ]
    },
    {
      "cell_type": "code",
      "source": [
        "def bfsExternalLink(page, hostname):\n",
        "  url = makeInternalLinkAnURL(page, hostname)\n",
        "  external_links = getExternalLinksOfPage(getBS(url))\n",
        "  if len(external_links) > 0:\n",
        "      return url, external_links\n",
        "\n",
        "  fila = [url]\n",
        "  visitados = set()\n",
        "\n",
        "  while len(fila) > 0:\n",
        "    no = fila.pop()\n",
        "    visitados.add(no)\n",
        "    external_links = getExternalLinksOfPage(getBS(no))\n",
        "    if external_links:\n",
        "      return no, external_links\n",
        "    for link in getInternalLinksOfPage(getBS(no)):\n",
        "      url = makeInternalLinkAnURL(link)\n",
        "      if url not in visitados:\n",
        "        fila.append(url)\n",
        "\n",
        "  return None, set()\n"
      ],
      "metadata": {
        "id": "yfg6bQfm8hiw"
      },
      "execution_count": null,
      "outputs": []
    },
    {
      "cell_type": "code",
      "source": [
        "def random_walker(link):\n",
        "  print(link)\n",
        "  visited = {link}\n",
        "  linkp = urlparse(link)\n",
        "  url, external_links = bfsExternalLink(link, linkp.hostname)\n",
        "  if len(external_links) == 0:\n",
        "    print(\"No external links found\")\n",
        "    return {link}\n",
        "  next_link = random.choice(list(external_links))\n",
        "  visited.add(next_link)\n",
        "  return visited.union(random_walker(next_link))"
      ],
      "metadata": {
        "id": "QsertcPD7Cja"
      },
      "execution_count": null,
      "outputs": []
    },
    {
      "cell_type": "code",
      "source": [
        "random_walker(\"https://scraping-cap3.netlify.app\")"
      ],
      "metadata": {
        "colab": {
          "base_uri": "https://localhost:8080/"
        },
        "id": "rmnf3Popm6Wh",
        "outputId": "01a7ff33-f49e-444d-98ee-39b3cba4ea31"
      },
      "execution_count": null,
      "outputs": [
        {
          "output_type": "stream",
          "name": "stdout",
          "text": [
            "https://scraping-cap3.netlify.app\n",
            "https://www.linkedin.com/in/gabrielfreitas-xv/\n",
            "No external links found\n"
          ]
        },
        {
          "output_type": "execute_result",
          "data": {
            "text/plain": [
              "{'https://scraping-cap3.netlify.app',\n",
              " 'https://www.linkedin.com/in/gabrielfreitas-xv/'}"
            ]
          },
          "metadata": {},
          "execution_count": 208
        }
      ]
    }
  ]
}