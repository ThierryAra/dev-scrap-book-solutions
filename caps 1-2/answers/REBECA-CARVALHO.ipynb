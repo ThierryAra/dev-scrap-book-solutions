{
 "cells": [
  {
   "cell_type": "markdown",
   "metadata": {},
   "source": [
    "# Capítulos 1 e 2"
   ]
  },
  {
   "cell_type": "markdown",
   "metadata": {},
   "source": [
    "In the chapters 1 and 2 of \"Web Scraping with Python\" you were able to learn more about the following subjects:\n",
    "* Exception Handling\n",
    "* BeautifulSoup\n",
    "  * find() and findall()\n",
    "    * argument *attributes*\n",
    "    * argument *text*\n",
    "    * argument *limit*\n",
    "  * children() and descendants()\n",
    "  * next_siblings() and previous_siblings()\n",
    "  * parent() e parents()\n",
    "* Accessing attributes\n",
    "* Regular Expressions\n",
    "* Lambda Expressions\n",
    "  \n",
    "The following cells aim to practice the contents listed above. For any sugestions, contact *gabriel.vasconcelos@usp.br*\n",
    "\n",
    "Use the website https://scraping-cap1-2.netlify.app/ to answer this notebook."
   ]
  },
  {
   "cell_type": "code",
   "execution_count": 3,
   "metadata": {},
   "outputs": [],
   "source": [
    "#                                                          \\\\\n",
    "#    ___  _  _ ___  ___   _   _  ___   ___   ___  ___       \\\\_\n",
    "#   |   | | / |   |  |    |   | |     |   | |      |        ( _\\\n",
    "#   |---| |/  |---|  |    |   | |___  |---| | __   |        / \\__\n",
    "#   |   | |\\  |   |  |    |   |     | |   | |   |  |       / _/`\"`\n",
    "#   |   | | \\ |   | _|_   |___|  ___| |   | |___| _|_     {\\  )_\n",
    "#              Rebeca Vieira Carvalho                       `\"\"\"`  \n",
    "\n",
    "# Import BeautifulSoup and other libraries you find useful\n",
    "from bs4 import BeautifulSoup\n",
    "from urllib.request import urlopen\n",
    "from urllib.error import HTTPError\n",
    "from urllib.error import URLError"
   ]
  },
  {
   "cell_type": "code",
   "execution_count": 4,
   "metadata": {},
   "outputs": [
    {
     "name": "stdout",
     "output_type": "stream",
     "text": [
      "Movie List by Production Companies\n"
     ]
    }
   ],
   "source": [
    "# Get the website https://scraping-cap1-2.netlify.app/ and pass it to a BeautifulSoup object \n",
    "# with proper error handling\n",
    "url = 'https://scraping-cap1-2.netlify.app/'\n",
    "\n",
    "try:\n",
    "    html = urlopen(url)\n",
    "except HTTPError as e:\n",
    "    print(e)\n",
    "except URLError as e:\n",
    "    print(e)\n",
    "\n",
    "bs = BeautifulSoup(html.read(), 'html.parser')\n",
    "title = bs.body.h1\n",
    "print(title.getText())"
   ]
  },
  {
   "cell_type": "markdown",
   "metadata": {},
   "source": [
    "### a.\n",
    "Get all information about the movie \"Green Book\".\n",
    "\n",
    "**Answer**: \n",
    "```\n",
    "{\n",
    "    \"Movie\": \"Green Book\",\n",
    "    \"Actors\": [\"Viggo Mortensen\", \"Mahershala Ali\", \"Linda Cardellini\"],\n",
    "    \"Director\": \"Peter Farrelly\",\n",
    "    \"Year\": 2018\n",
    "}\n",
    "```"
   ]
  },
  {
   "cell_type": "code",
   "execution_count": 5,
   "metadata": {},
   "outputs": [
    {
     "name": "stdout",
     "output_type": "stream",
     "text": [
      "{'Movie': 'Green Book', 'Actors': ['Viggo Mortensen', ' Mahershala Ali', ' Linda Cardellini'], 'Director': 'Peter Farrelly', 'Year': '2018'}\n"
     ]
    }
   ],
   "source": [
    "# Receive a table and returns the list in order of the header\n",
    "def get_header_names(table):\n",
    "    order = list()\n",
    "    for name in table.find('tr'):\n",
    "        if name.getText() != '\\n':\n",
    "            order.append(name.getText())\n",
    "    return order\n",
    "\n",
    "def format_movie(header, trs):\n",
    "    movie = dict()\n",
    "    for headerName, movieDetail in zip(header, trs.findChildren()):\n",
    "        if ',' in movieDetail.getText():\n",
    "            movie[headerName] = movieDetail.getText().split(',')\n",
    "        else:\n",
    "            movie[headerName] = movieDetail.getText()\n",
    "            \n",
    "    return movie\n",
    "\n",
    "# Finds Green Book\n",
    "trs = bs.find('td', text = 'Green Book').parent\n",
    "\n",
    "table = trs.parent\n",
    "header = get_header_names(table)\n",
    "\n",
    "print(format_movie(header, trs))\n",
    "\n"
   ]
  },
  {
   "cell_type": "markdown",
   "metadata": {},
   "source": [
    "### b.\n",
    "Get the title of the first two movies that appeared in the website which have won the Oscars.\n",
    "\n",
    "Answer: `[\"Green Book\", \"The Post\"]`"
   ]
  },
  {
   "cell_type": "code",
   "execution_count": 6,
   "metadata": {},
   "outputs": [
    {
     "data": {
      "text/plain": [
       "['Green Book', 'The Post']"
      ]
     },
     "execution_count": 6,
     "metadata": {},
     "output_type": "execute_result"
    }
   ],
   "source": [
    "oscarMovies = bs.find_all('tr', {'class': 'oscar'})\n",
    "\n",
    "printMovies = list()\n",
    "for i in range(0,2):\n",
    "    printMovies.append(oscarMovies[i].td.getText())\n",
    "\n",
    "printMovies"
   ]
  },
  {
   "cell_type": "markdown",
   "metadata": {},
   "source": [
    "### c.\n",
    "Get all information from movies of Participant Films.\n",
    "\n",
    "**Answer**: \n",
    "```\n",
    "[{\n",
    "    \"Movie\": \"Green Book\",\n",
    "    \"Actors\": [\"Viggo Mortensen\", \"Mahershala Ali\", \"Linda Cardellini\"],\n",
    "    \"Director\": \"Peter Farrelly\",\n",
    "    \"Year\": 2018\n",
    "},\n",
    "{\n",
    "    \"Movie\": \"The Post\",\n",
    "    \"Actors\": [\"Meryl Streep\", \"Tom Hanks\", \"Sarah Paulson\"],\n",
    "    \"Director\": \"Steven Spielberg\",\n",
    "    \"Year\": 2017\n",
    "},\n",
    "{\n",
    "    \"Movie\": \"Roma\",\n",
    "    \"Actors\": [\"Yalitza Aparicio\", \"Marina de Tavira\"],\n",
    "    \"Director\": \"Alfonso Cuarón\",\n",
    "    \"Year\": 2018\n",
    "},\n",
    "{\n",
    "    \"Movie\": \"Spotlight\",\n",
    "    \"Actors\": [\"Mark Rufallo\", \"Michael Keaton\", \"Rachel McAdams\"],\n",
    "    \"Director\": \"Tom McCarthy\",\n",
    "    \"Year\": 2015\n",
    "}]\n",
    "```"
   ]
  },
  {
   "cell_type": "code",
   "execution_count": 7,
   "metadata": {},
   "outputs": [
    {
     "name": "stdout",
     "output_type": "stream",
     "text": [
      "{'Movie': 'Green Book', 'Actors': ['Viggo Mortensen', ' Mahershala Ali', ' Linda Cardellini'], 'Director': 'Peter Farrelly', 'Year': '2018'}\n",
      "{'Movie': 'The Post', 'Actors': ['Meryl Streep', ' Tom Hanks', ' Sarah Paulson'], 'Director': 'Steven Spielberg', 'Year': '2017'}\n",
      "{'Movie': 'Roma', 'Actors': ['Yalitza Aparicio', ' Marina de Tavira'], 'Director': 'Alfonso Cuarón', 'Year': '2018'}\n",
      "{'Movie': 'Spotlight', 'Actors': ['Mark Rufallo', ' Michael Keaton', ' Rachel McAdams'], 'Director': 'Tom McCarthy', 'Year': '2015'}\n"
     ]
    }
   ],
   "source": [
    "for movie in bs.find(id = 'participant').table.tr.next_siblings:\n",
    "    if movie.getText() != '\\n':\n",
    "        print(format_movie(header, movie))"
   ]
  },
  {
   "cell_type": "markdown",
   "metadata": {},
   "source": [
    "### d.\n",
    "Get all directors.\n",
    "\n",
    "**Answer**:\n",
    " ```{'Chris Columbus', 'Alfonso Cuarón', 'Mike Newell', 'David Yates', 'Peter Farrelly', 'Steven Spielberg', 'Tom McCarthy'}```\n",
    "\n",
    "> **Tip:**  The directors are not in the same column index in the two tables."
   ]
  },
  {
   "cell_type": "code",
   "execution_count": 8,
   "metadata": {},
   "outputs": [
    {
     "data": {
      "text/plain": [
       "{'Alfonso Cuarón',\n",
       " 'Chris Columbus',\n",
       " 'David Yates',\n",
       " 'Denis Villeneuve',\n",
       " 'Mike Newell',\n",
       " 'Peter Farrelly',\n",
       " 'Steven Spielberg',\n",
       " 'Tom McCarthy'}"
      ]
     },
     "execution_count": 8,
     "metadata": {},
     "output_type": "execute_result"
    }
   ],
   "source": [
    "def get_header_index(table, name):\n",
    "    return get_header_names(table).index(name)\n",
    "\n",
    "\n",
    "directors = set()\n",
    "for table in bs.find_all('table'):\n",
    "\n",
    "    # Find the position of the Director\n",
    "    index = get_header_index(table, 'Director')\n",
    "    for movies in table.tr.next_siblings:\n",
    "        if len(movies) > 1:\n",
    "            directors.add(movies.find_all('td')[index].getText())\n",
    "directors"
   ]
  },
  {
   "cell_type": "markdown",
   "metadata": {},
   "source": [
    "### e.\n",
    "Get the next movie in the table after the one that was lauched in 2004.\n",
    "\n",
    "**Answer**: \n",
    "```\n",
    "{\n",
    "    \"Movie\": \"Harry Potter and the Goblet of Fire\",\n",
    "    \"Actors\": [\"Daniel Radcliffe\", \"Emma Watson\", \"Rupert Grint\", \"Alan Rickman\", \"Michael Gambon\"],\n",
    "    \"Year\": 2005,\n",
    "    \"Director\": \"Mike Newell\"\n",
    "}\n",
    "```"
   ]
  },
  {
   "cell_type": "code",
   "execution_count": 9,
   "metadata": {},
   "outputs": [
    {
     "data": {
      "text/plain": [
       "{'Movie': 'Harry Potter and the Goblet of Fire',\n",
       " 'Actors': ['Daniel Radcliffe',\n",
       "  ' Emma Watson',\n",
       "  ' Rupert Grint',\n",
       "  ' Alan Rickman',\n",
       "  ' Michael Gambon'],\n",
       " 'Year': '2005',\n",
       " 'Director': 'Mike Newell'}"
      ]
     },
     "execution_count": 9,
     "metadata": {},
     "output_type": "execute_result"
    }
   ],
   "source": [
    "movie = bs.find('td', text = '2004').parent.next_sibling.next_sibling\n",
    "header = get_header_names(movie.parent)\n",
    "format_movie(header, movie)"
   ]
  },
  {
   "cell_type": "markdown",
   "metadata": {},
   "source": [
    "### f.\n",
    "Get the production company responsible for *Harry Potter and the Half-Blood Prince*.\n",
    "\n",
    "**Answer**: Warner Bros. Pictures"
   ]
  },
  {
   "cell_type": "code",
   "execution_count": 10,
   "metadata": {},
   "outputs": [
    {
     "name": "stdout",
     "output_type": "stream",
     "text": [
      "Warner Bros. Pictures\n"
     ]
    }
   ],
   "source": [
    "movie = bs.find('td', text='Harry Potter and the Half-Blood Prince').parent\n",
    "company = movie.parent.parent.h2.getText()\n",
    "print(company)"
   ]
  },
  {
   "cell_type": "markdown",
   "metadata": {},
   "source": [
    "### g.\n",
    "Get URL from images.\n",
    "\n",
    "**Answer**: `[\"https://upload.wikimedia.org/wikipedia/commons/thumb/d/d2/Warner_Bros._%282019%29_logo.svg/1200px-Warner_Bros._%282019%29_logo.svg.png\", \"https://upload.wikimedia.org/wikipedia/commons/0/07/Participant_%282019%29.svg\"]`"
   ]
  },
  {
   "cell_type": "code",
   "execution_count": 11,
   "metadata": {},
   "outputs": [
    {
     "data": {
      "text/plain": [
       "['https://upload.wikimedia.org/wikipedia/commons/thumb/d/d2/Warner_Bros._%282019%29_logo.svg/1200px-Warner_Bros._%282019%29_logo.svg.png',\n",
       " 'https://upload.wikimedia.org/wikipedia/commons/0/07/Participant_%282019%29.svg']"
      ]
     },
     "execution_count": 11,
     "metadata": {},
     "output_type": "execute_result"
    }
   ],
   "source": [
    "# Code below\n",
    "images = [images['src'] for images in bs.find_all('img')]\n",
    "images"
   ]
  },
  {
   "cell_type": "markdown",
   "metadata": {},
   "source": [
    "### h.\n",
    "Get the name of all movies which have 're' in ther names.\n",
    "\n",
    "**Answer**: `['Harry Potter and the Chamber of Secrets', 'Harry Potter and the Goblet of Fire', 'Green Book']`"
   ]
  },
  {
   "cell_type": "code",
   "execution_count": 12,
   "metadata": {},
   "outputs": [
    {
     "name": "stdout",
     "output_type": "stream",
     "text": [
      "{'Harry Potter and the Goblet of Fire', 'Harry Potter and the Chamber of Secrets', 'Green Book'}\n"
     ]
    }
   ],
   "source": [
    "def find_all_movies(bs):\n",
    "    all_movies = set()\n",
    "    for table in bs.find_all('table'):\n",
    "        # Find the position of the Director\n",
    "        index = get_header_index(table, 'Movie')\n",
    "        for movies in table.tr.next_siblings: # Skips first tr\n",
    "            if len(movies) > 1:\n",
    "                all_movies.add(movies.find_all('td')[index].getText())\n",
    "    return all_movies\n",
    "\n",
    "import re\n",
    "\n",
    "res = {item.getText() for item in bs.find_all('td', text=re.compile('.*re.*'))}\n",
    "all_movies = find_all_movies(bs)\n",
    "res.intersection_update(all_movies)\n",
    "print(res)\n"
   ]
  },
  {
   "cell_type": "markdown",
   "metadata": {},
   "source": [
    "### i.\n",
    "This is a **challenge exercise**. Get the name of the movies for each director which have directed both in Warner Bros Pictures and Participant Films.\n",
    "\n",
    "**Answer**: \n",
    "```\n",
    "{\n",
    "    'Alfonso Cuarón': ['Harry Potter and the Prisoner of Askaban', 'Roma']\n",
    "}\n",
    "```"
   ]
  },
  {
   "cell_type": "code",
   "execution_count": 13,
   "metadata": {},
   "outputs": [
    {
     "data": {
      "text/plain": [
       "{'Alfonso Cuarón': ['Harry Potter and the Prisoner of Askaban', 'Roma']}"
      ]
     },
     "execution_count": 13,
     "metadata": {},
     "output_type": "execute_result"
    }
   ],
   "source": [
    "def find_all_names(table, name):\n",
    "    items = set()\n",
    "    try:\n",
    "        index = get_header_index(table, name)\n",
    "    except:\n",
    "        print('ERROR: This value is not in the header')\n",
    "        return None\n",
    "    for movies in table.tr.next_siblings:\n",
    "        if len(movies) > 1:\n",
    "            items.add(movies.find_all('td')[index].getText())\n",
    "    return items\n",
    "\n",
    "# Find directors in both tables\n",
    "tables = bs.find_all('table')\n",
    "directors = find_all_names(tables[0], 'Director')\n",
    "directors2 = find_all_names(tables[1], 'Director')\n",
    "directors.intersection_update(directors2)\n",
    "\n",
    "# Finding the movies of each director\n",
    "directors_movies = list()\n",
    "for director in directors:\n",
    "    director_movies = list()\n",
    "    occurances = bs.find_all('td', text=directors)\n",
    "    # directors_movies = \n",
    "    for occur in occurances:\n",
    "        director_movies.append(occur.parent.td.getText())\n",
    "    directors_movies.append(director_movies)\n",
    "\n",
    "# Format the list\n",
    "both_tables_directors = dict()\n",
    "for director, movies in zip(directors, directors_movies):\n",
    "    both_tables_directors[director] = movies\n",
    "both_tables_directors"
   ]
  }
 ],
 "metadata": {
  "kernelspec": {
   "display_name": "Python 3.8.10 64-bit",
   "language": "python",
   "name": "python3"
  },
  "language_info": {
   "codemirror_mode": {
    "name": "ipython",
    "version": 3
   },
   "file_extension": ".py",
   "mimetype": "text/x-python",
   "name": "python",
   "nbconvert_exporter": "python",
   "pygments_lexer": "ipython3",
   "version": "3.8.10"
  },
  "orig_nbformat": 4,
  "vscode": {
   "interpreter": {
    "hash": "916dbcbb3f70747c44a77c7bcd40155683ae19c65e1c03b4aa3499c5328201f1"
   }
  }
 },
 "nbformat": 4,
 "nbformat_minor": 2
}
