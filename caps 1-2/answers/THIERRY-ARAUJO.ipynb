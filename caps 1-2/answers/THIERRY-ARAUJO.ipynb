{
  "cells": [
    {
      "cell_type": "markdown",
      "metadata": {
        "id": "eL4lQuJNwDFK"
      },
      "source": [
        "# Capítulos 1 e 2"
      ]
    },
    {
      "cell_type": "markdown",
      "metadata": {
        "id": "yPcD-AylwDFP"
      },
      "source": [
        "In the chapters 1 and 2 of \"Web Scraping with Python\" you were able to learn more about the following subjects:\n",
        "* Exception Handling\n",
        "* BeautifulSoup\n",
        "  * find() and findall()\n",
        "    * argument *attributes*\n",
        "    * argument *text*\n",
        "    * argument *limit*\n",
        "  * children() and descendants()\n",
        "  * next_siblings() and previous_siblings()\n",
        "  * parent() e parents()\n",
        "* Accessing attributes\n",
        "* Regular Expressions\n",
        "* Lambda Expressions\n",
        "  \n",
        "The following cells aim to practice the contents listed above. For any sugestions, contact *gabriel.vasconcelos@usp.br*\n",
        "\n",
        "Use the website https://scraping-cap1-2.netlify.app/ to answer this notebook."
      ]
    },
    {
      "cell_type": "code",
      "execution_count": 1,
      "metadata": {
        "id": "_z0afdc1wDFS"
      },
      "outputs": [],
      "source": [
        "# Import BeautifulSoup and other libraries you find useful\n",
        "from bs4 import BeautifulSoup\n",
        "import re\n",
        "from urllib.error import URLError, HTTPError\n",
        "from urllib.request import urlopen"
      ]
    },
    {
      "cell_type": "code",
      "execution_count": 2,
      "metadata": {
        "id": "9xMhcMcXwDFV"
      },
      "outputs": [],
      "source": [
        "# Get the website https://scraping-cap1-2.netlify.app/ and pass it to a BeautifulSoup object \n",
        "# with proper error handling\n",
        "\n",
        "def getSiteBS(site):\n",
        "    try:\n",
        "        html = urlopen(site)\n",
        "    except HTTPError as e:\n",
        "        return None\n",
        "    except URLError as e:\n",
        "        return None\n",
        "    return BeautifulSoup(html, 'html.parser')\n",
        "\n",
        "bs = getSiteBS('https://scraping-cap1-2.netlify.app/')"
      ]
    },
    {
      "cell_type": "code",
      "source": [
        "def getHeaderPosName(table):\n",
        "  head = {}\n",
        "  for i,th in enumerate(table.tr.findChildren()):\n",
        "    head[i] = f'{th.get_text()}'\n",
        "   \n",
        "  return head if len(head) > 0 else None\n",
        "\n",
        "def getHeaderNamePos(table):\n",
        "  head = {}\n",
        "  for i,th in enumerate(table.tr.findChildren()):\n",
        "    head[f'{th.get_text()}'] = i\n",
        "   \n",
        "  return head if len(head) > 0 else None"
      ],
      "metadata": {
        "id": "ZwtVoMA6w2RK"
      },
      "execution_count": 3,
      "outputs": []
    },
    {
      "cell_type": "markdown",
      "metadata": {
        "id": "JhrjAz6bwDFX"
      },
      "source": [
        "### a.\n",
        "Get all information about the movie \"Green Book\".\n",
        "\n",
        "**Answer**: \n",
        "```\n",
        "{\n",
        "    \"Movie\": \"Green Book\",\n",
        "    \"Actors\": [\"Viggo Mortensen\", \"Mahershala Ali\", \"Linda Cardellini\"],\n",
        "    \"Director\": \"Peter Farrelly\",\n",
        "    \"Year\": 2018\n",
        "}\n",
        "```"
      ]
    },
    {
      "cell_type": "code",
      "execution_count": 4,
      "metadata": {
        "colab": {
          "base_uri": "https://localhost:8080/"
        },
        "id": "FJ6-13zowDFZ",
        "outputId": "83e1934e-4c1e-4bc3-c47e-e43a326f41aa"
      },
      "outputs": [
        {
          "output_type": "stream",
          "name": "stdout",
          "text": [
            "{'Movie': 'Green Book', 'Actors': ['Viggo Mortensen', 'Mahershala Ali', 'Linda Cardellini'], 'Director': 'Peter Farrelly', 'Year': 2018}\n"
          ]
        }
      ],
      "source": [
        "def formatFilm(tr_movie, header=None):\n",
        "  if(header == None):\n",
        "    header = getHeaderPosName(tr_movie.parent)\n",
        "\n",
        "  res = {}\n",
        "  for i,t in enumerate(tr_movie.findChildren()):\n",
        "    data = t.get_text()\n",
        "    \n",
        "    if(header[i] == 'Movie' or header[i] == 'Director'):\n",
        "      res[header[i]] = data\n",
        "    elif(header[i] == 'Actors'):\n",
        "      res[header[i]] = [name.strip() for name in data.split(',')]\n",
        "    elif(header[i] == 'Year'):\n",
        "      res[header[i]] = int(data)\n",
        "    else:\n",
        "      res['Outros'] = data\n",
        "\n",
        "  return res\n",
        "\n",
        "td = bs.find('td', text='Green Book')\n",
        "print(formatFilm(td.parent))"
      ]
    },
    {
      "cell_type": "markdown",
      "metadata": {
        "id": "aumS_htBwDFa"
      },
      "source": [
        "### b.\n",
        "Get the title of the first two movies that appeared in the website which have won the Oscars.\n",
        "\n",
        "Answer: `[\"Green Book\", \"The Post\"]`"
      ]
    },
    {
      "cell_type": "code",
      "execution_count": 5,
      "metadata": {
        "colab": {
          "base_uri": "https://localhost:8080/"
        },
        "id": "Z5jA-lBIwDFc",
        "outputId": "847f6914-7ebe-48c8-fd6e-116408b2defa"
      },
      "outputs": [
        {
          "output_type": "stream",
          "name": "stdout",
          "text": [
            "['Green Book', 'The Post']\n"
          ]
        }
      ],
      "source": [
        "# Code below\n",
        "\n",
        "TRs = bs.find_all('tr', {\n",
        "    'class' : 'oscar'\n",
        "})\n",
        "\n",
        "header = getHeaderNamePos(TRs[0].parent)\n",
        "\n",
        "films = []\n",
        "for i in range(2):\n",
        "  name = TRs[i].findChildren()[header['Movie']].get_text()\n",
        "  films.append(name)\n",
        "\n",
        "print(films)"
      ]
    },
    {
      "cell_type": "markdown",
      "metadata": {
        "id": "0Ups50AuwDFd"
      },
      "source": [
        "### c.\n",
        "Get all information from movies of Participant Films.\n",
        "\n",
        "**Answer**: \n",
        "```\n",
        "[{\n",
        "    \"Movie\": \"Green Book\",\n",
        "    \"Actors\": [\"Viggo Mortensen\", \"Mahershala Ali\", \"Linda Cardellini\"],\n",
        "    \"Director\": \"Peter Farrelly\",\n",
        "    \"Year\": 2018\n",
        "},\n",
        "{\n",
        "    \"Movie\": \"The Post\",\n",
        "    \"Actors\": [\"Meryl Streep\", \"Tom Hanks\", \"Sarah Paulson\"],\n",
        "    \"Director\": \"Steven Spielberg\",\n",
        "    \"Year\": 2017\n",
        "},\n",
        "{\n",
        "    \"Movie\": \"Roma\",\n",
        "    \"Actors\": [\"Yalitza Aparicio\", \"Marina de Tavira\"],\n",
        "    \"Director\": \"Alfonso Cuarón\",\n",
        "    \"Year\": 2018\n",
        "},\n",
        "{\n",
        "    \"Movie\": \"Spotlight\",\n",
        "    \"Actors\": [\"Mark Rufallo\", \"Michael Keaton\", \"Rachel McAdams\"],\n",
        "    \"Director\": \"Tom McCarthy\",\n",
        "    \"Year\": 2015\n",
        "}]\n",
        "```"
      ]
    },
    {
      "cell_type": "code",
      "execution_count": 6,
      "metadata": {
        "colab": {
          "base_uri": "https://localhost:8080/"
        },
        "id": "oR8iD1oIwDFg",
        "outputId": "e48e1a71-5787-48b9-d014-8cb87ca3fdbd"
      },
      "outputs": [
        {
          "output_type": "stream",
          "name": "stdout",
          "text": [
            "[{'Movie': 'Green Book', 'Actors': ['Viggo Mortensen', 'Mahershala Ali', 'Linda Cardellini'], 'Director': 'Peter Farrelly', 'Year': 2018}, {'Movie': 'The Post', 'Actors': ['Meryl Streep', 'Tom Hanks', 'Sarah Paulson'], 'Director': 'Steven Spielberg', 'Year': 2017}, {'Movie': 'Roma', 'Actors': ['Yalitza Aparicio', 'Marina de Tavira'], 'Director': 'Alfonso Cuarón', 'Year': 2018}, {'Movie': 'Spotlight', 'Actors': ['Mark Rufallo', 'Michael Keaton', 'Rachel McAdams'], 'Director': 'Tom McCarthy', 'Year': 2015}]\n"
          ]
        }
      ],
      "source": [
        "div = bs.find('div', {'id':'participant'})\n",
        "\n",
        "header = getHeaderPosName(div.table)\n",
        "\n",
        "films = []\n",
        "for tr in div.table.tr.findNextSiblings():\n",
        "  films.append(formatFilm(tr, header))\n",
        "\n",
        "print(films)"
      ]
    },
    {
      "cell_type": "markdown",
      "metadata": {
        "id": "PdCb6RTYwDFh"
      },
      "source": [
        "### d.\n",
        "Get all directors.\n",
        "\n",
        "**Answer**:\n",
        " ```{'Chris Columbus', 'Alfonso Cuarón', 'Mike Newell', 'David Yates', 'Peter Farrelly', 'Steven Spielberg', 'Tom McCarthy'}```\n",
        "\n",
        "> **Tip:**  The directors are not in the same column index in the two tables."
      ]
    },
    {
      "cell_type": "code",
      "execution_count": 14,
      "metadata": {
        "colab": {
          "base_uri": "https://localhost:8080/"
        },
        "id": "qIfJIyWkwDFj",
        "outputId": "0b0253ed-77c8-4da4-ef6a-5da6099506c0"
      },
      "outputs": [
        {
          "output_type": "stream",
          "name": "stdout",
          "text": [
            "{'David Yates', 'Denis Villeneuve', 'Peter Farrelly', 'Chris Columbus', 'Alfonso Cuarón', 'Steven Spielberg', 'Mike Newell', 'Tom McCarthy'}\n"
          ]
        }
      ],
      "source": [
        "directors = []\n",
        "\n",
        "tables = bs.find_all('table')\n",
        "headers = [getHeaderNamePos(table) for table in tables]\n",
        "\n",
        "for i,tab in enumerate(tables):\n",
        "  for tr in tab.tr.findNextSiblings():\n",
        "    directors.append(formatFilm(tr)['Director'])\n",
        "\n",
        "set_directors = set(directors)\n",
        "print(set_directors)"
      ]
    },
    {
      "cell_type": "markdown",
      "metadata": {
        "id": "S1kqxWjfwDFj"
      },
      "source": [
        "### e.\n",
        "Get the next movie in the table after the one that was lauched in 2004.\n",
        "\n",
        "**Answer**: \n",
        "```\n",
        "{\n",
        "    \"Movie\": \"Harry Potter and the Goblet of Fire\",\n",
        "    \"Actors\": [\"Daniel Radcliffe\", \"Emma Watson\", \"Rupert Grint\", \"Alan Rickman\", \"Michael Gambon\"],\n",
        "    \"Year\": 2005,\n",
        "    \"Director\": \"Mike Newell\"\n",
        "}\n",
        "```"
      ]
    },
    {
      "cell_type": "code",
      "execution_count": 22,
      "metadata": {
        "id": "ERhe8f8swDFk",
        "colab": {
          "base_uri": "https://localhost:8080/"
        },
        "outputId": "91c184e8-8535-42a9-e079-8bfd0c890526"
      },
      "outputs": [
        {
          "output_type": "stream",
          "name": "stdout",
          "text": [
            "[{'Movie': 'Harry Potter and the Goblet of Fire', 'Actors': ['Daniel Radcliffe', 'Emma Watson', 'Rupert Grint', 'Alan Rickman', 'Michael Gambon'], 'Year': 2005, 'Director': 'Mike Newell'}]\n"
          ]
        }
      ],
      "source": [
        "tables = bs.find_all('table')\n",
        "\n",
        "headers = [getHeaderPosName(table) for table in tables]\n",
        "\n",
        "movies = []\n",
        "append = False\n",
        "\n",
        "for header,table in zip(headers,tables):\n",
        "  for tr in table.tr.findNextSiblings():\n",
        "    movie = formatFilm(tr, header)\n",
        "\n",
        "    if(append):\n",
        "      movies.append(movie)\n",
        "      append = False\n",
        "    if(movie['Year'] == 2004):\n",
        "      append = True\n",
        "\n",
        "print(movies)"
      ]
    },
    {
      "cell_type": "markdown",
      "metadata": {
        "id": "pW2gajIiwDFk"
      },
      "source": [
        "### f.\n",
        "Get the production company responsible for *Harry Potter and the Half-Blood Prince*.\n",
        "\n",
        "**Answer**: Warner Bros. Pictures"
      ]
    },
    {
      "cell_type": "code",
      "execution_count": 27,
      "metadata": {
        "id": "fF4QxlE0wDFl",
        "colab": {
          "base_uri": "https://localhost:8080/"
        },
        "outputId": "038504ab-51ec-4d7f-f4dd-4e6fae57f513"
      },
      "outputs": [
        {
          "output_type": "stream",
          "name": "stdout",
          "text": [
            "Warner Bros. Pictures\n"
          ]
        }
      ],
      "source": [
        "tr = bs.find('td', text='Harry Potter and the Half-Blood Prince').parent\n",
        "\n",
        "company = tr.parent.parent.h2.get_text()\n",
        "print(company)"
      ]
    },
    {
      "cell_type": "markdown",
      "metadata": {
        "id": "q5PMkt7pwDFl"
      },
      "source": [
        "### g.\n",
        "Get URL from images.\n",
        "\n",
        "**Answer**: `[\"https://upload.wikimedia.org/wikipedia/commons/thumb/d/d2/Warner_Bros._%282019%29_logo.svg/1200px-Warner_Bros._%282019%29_logo.svg.png\", \"https://upload.wikimedia.org/wikipedia/commons/0/07/Participant_%282019%29.svg\"]`"
      ]
    },
    {
      "cell_type": "code",
      "execution_count": 48,
      "metadata": {
        "id": "sHolMviKwDFn",
        "colab": {
          "base_uri": "https://localhost:8080/"
        },
        "outputId": "64ed7407-ae6d-48af-b44b-ffc991e40756"
      },
      "outputs": [
        {
          "output_type": "stream",
          "name": "stdout",
          "text": [
            "['https://upload.wikimedia.org/wikipedia/commons/thumb/d/d2/Warner_Bros._%282019%29_logo.svg/1200px-Warner_Bros._%282019%29_logo.svg.png', 'https://upload.wikimedia.org/wikipedia/commons/0/07/Participant_%282019%29.svg']\n"
          ]
        }
      ],
      "source": [
        "images = bs.find_all('img',{'src':re.compile('.+')})\n",
        "\n",
        "links = [img['src'] for img in images]\n",
        "print(links)"
      ]
    },
    {
      "cell_type": "markdown",
      "metadata": {
        "id": "Tg9QrisQwDFn"
      },
      "source": [
        "### h.\n",
        "Get the name of all movies which have 're' in ther names.\n",
        "\n",
        "**Answer**: `['Harry Potter and the Chamber of Secrets', 'Harry Potter and the Goblet of Fire', 'Green Book']`"
      ]
    },
    {
      "cell_type": "code",
      "execution_count": 54,
      "metadata": {
        "id": "8Dw6yDCWwDFn",
        "colab": {
          "base_uri": "https://localhost:8080/"
        },
        "outputId": "ed9775ba-0662-48ce-cc62-cd7c46887619"
      },
      "outputs": [
        {
          "output_type": "stream",
          "name": "stdout",
          "text": [
            "['Harry Potter and the Chamber of Secrets', 'Harry Potter and the Goblet of Fire', 'Green Book']\n"
          ]
        }
      ],
      "source": [
        "tables = bs.find_all('table')\n",
        "\n",
        "headers = [getHeaderNamePos(table) for table in tables]\n",
        "\n",
        "movies = []\n",
        "\n",
        "for header,table in zip(headers,tables):\n",
        "  for tr in table.tr.findNextSiblings():\n",
        "    movie = tr.findChildren()[header['Movie']].get_text()\n",
        "\n",
        "    if(re.match('.*re.*', movie)):\n",
        "      movies.append(movie)\n",
        "\n",
        "\n",
        "print(movies)"
      ]
    },
    {
      "cell_type": "markdown",
      "metadata": {
        "id": "BQ26iGBfwDFo"
      },
      "source": [
        "### i.\n",
        "This is a **challenge exercise**. Get the name of the movies for each director which have directed both in Warner Bros Pictures and Participant Films.\n",
        "\n",
        "**Answer**: \n",
        "```\n",
        "{\n",
        "    'Alfonso Cuarón': ['Harry Potter and the Prisoner of Askaban', 'Roma']\n",
        "}\n",
        "```"
      ]
    },
    {
      "cell_type": "code",
      "execution_count": 82,
      "metadata": {
        "id": "B23RHEBDwDFo",
        "colab": {
          "base_uri": "https://localhost:8080/"
        },
        "outputId": "a50e2c66-1492-4298-8a7e-5357313eb1e7"
      },
      "outputs": [
        {
          "output_type": "stream",
          "name": "stdout",
          "text": [
            "{'Alfonso Cuarón': ['Harry Potter and the Prisoner of Askaban', 'Roma']}\n"
          ]
        }
      ],
      "source": [
        "tables = bs.find_all('table')\n",
        "all_directors = {i:{} for i in range(len(tables))}\n",
        "\n",
        "headers = [getHeaderPosName(table) for table in tables]\n",
        "movies = []\n",
        "\n",
        "for i,header,table in zip(range(len(tables)),headers,tables):\n",
        "  for tr in table.tr.findNextSiblings():\n",
        "    movie = formatFilm(tr, header)\n",
        "\n",
        "    if(all_directors[i].get(movie['Director'],False)):\n",
        "      all_directors[i][movie['Director']].append(movie['Movie'])\n",
        "    else:\n",
        "      all_directors[i][movie['Director']] = []\n",
        "      all_directors[i][movie['Director']].append(movie['Movie'])\n",
        "\n",
        "intersec = set(all_directors[0].keys()).intersection(all_directors[1].keys())\n",
        "\n",
        "directors = {}\n",
        "for i in intersec:\n",
        "  directors[i] = []\n",
        "  directors[i].append(*all_directors[0][i])\n",
        "  directors[i].append(*all_directors[1][i])\n",
        "\n",
        "print(directors)"
      ]
    }
  ],
  "metadata": {
    "kernelspec": {
      "display_name": "Python 3.9.13 64-bit (microsoft store)",
      "language": "python",
      "name": "python3"
    },
    "language_info": {
      "name": "python",
      "version": "3.9.13"
    },
    "orig_nbformat": 4,
    "vscode": {
      "interpreter": {
        "hash": "b7f22e608a9410c9a00adbb49e3cb6a72010c497ae6b30c9496ff58de178a89c"
      }
    },
    "colab": {
      "provenance": []
    }
  },
  "nbformat": 4,
  "nbformat_minor": 0
}